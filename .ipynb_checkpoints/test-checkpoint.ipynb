{
 "cells": [
  {
   "cell_type": "markdown",
   "metadata": {},
   "source": [
    "### Task 1: Extract the ‘text’ in all the CSV files and store them into a single ‘.txt file’. "
   ]
  },
  {
   "cell_type": "code",
   "execution_count": 4,
   "metadata": {},
   "outputs": [
    {
     "name": "stdout",
     "output_type": "stream",
     "text": [
      "Collecting pandas\n",
      "  Using cached pandas-2.2.2-cp39-cp39-win_amd64.whl (11.6 MB)\n",
      "Collecting tzdata>=2022.7\n",
      "  Using cached tzdata-2024.1-py2.py3-none-any.whl (345 kB)\n",
      "Requirement already satisfied: python-dateutil>=2.8.2 in d:\\masterofdatascience\\sem_2\\hit137_software_now\\assignment_2\\hit137-software-now-assignment-2\\env\\lib\\site-packages (from pandas) (2.9.0.post0)\n",
      "Collecting pytz>=2020.1\n",
      "  Downloading pytz-2024.2-py2.py3-none-any.whl (508 kB)\n",
      "     -------------------------------------- 508.0/508.0 KB 2.9 MB/s eta 0:00:00\n",
      "Collecting numpy>=1.22.4\n",
      "  Using cached numpy-2.0.2-cp39-cp39-win_amd64.whl (15.9 MB)\n",
      "Requirement already satisfied: six>=1.5 in d:\\masterofdatascience\\sem_2\\hit137_software_now\\assignment_2\\hit137-software-now-assignment-2\\env\\lib\\site-packages (from python-dateutil>=2.8.2->pandas) (1.16.0)\n",
      "Installing collected packages: pytz, tzdata, numpy, pandas\n",
      "Successfully installed numpy-2.0.2 pandas-2.2.2 pytz-2024.2 tzdata-2024.1\n",
      "Note: you may need to restart the kernel to use updated packages.\n"
     ]
    },
    {
     "name": "stderr",
     "output_type": "stream",
     "text": [
      "WARNING: You are using pip version 22.0.4; however, version 24.2 is available.\n",
      "You should consider upgrading via the 'd:\\masterOfDataScience\\sem_2\\HIT137_Software_Now\\assignment_2\\HIT137-SOFTWARE-NOW-Assignment-2\\env\\Scripts\\python.exe -m pip install --upgrade pip' command.\n"
     ]
    }
   ],
   "source": [
    "#pip install pandas"
   ]
  },
  {
   "cell_type": "code",
   "execution_count": 7,
   "metadata": {},
   "outputs": [],
   "source": [
    "import os\n",
    "import pandas as pd"
   ]
  },
  {
   "cell_type": "markdown",
   "metadata": {},
   "source": [
    "#### Exploring Data"
   ]
  },
  {
   "cell_type": "code",
   "execution_count": 16,
   "metadata": {},
   "outputs": [],
   "source": [
    "csv_files = ['CSV1.csv', 'CSV2.csv', 'CSV3.csv', 'CSV4.csv']"
   ]
  },
  {
   "cell_type": "code",
   "execution_count": 22,
   "metadata": {},
   "outputs": [
    {
     "name": "stdout",
     "output_type": "stream",
     "text": [
      "File name: CSV1.csv\n",
      "Index(['Unnamed: 0', 'HADM_ID', 'SHORT-TEXT', 'ICD9_CODE', 'ICD9', 'Label'], dtype='object')\n",
      "File name: CSV2.csv\n",
      "Index(['Unnamed: 0', 'HADM_ID', 'TEXT', 'LABLE', 'entites', 'group'], dtype='object')\n",
      "File name: CSV3.csv\n",
      "Index(['HADM_ID', 'TEXT', 'ICD9_CODE', 'Label'], dtype='object')\n",
      "File name: CSV4.csv\n",
      "Index(['HADM_ID', 'TEXT', 'LABLE'], dtype='object')\n"
     ]
    }
   ],
   "source": [
    "for file in csv_files:\n",
    "    df = pd.read_csv(file)\n",
    "    print(\"File name:\",file)\n",
    "    print(df.columns)\n"
   ]
  },
  {
   "cell_type": "code",
   "execution_count": 25,
   "metadata": {},
   "outputs": [
    {
     "data": {
      "text/html": [
       "<div>\n",
       "<style scoped>\n",
       "    .dataframe tbody tr th:only-of-type {\n",
       "        vertical-align: middle;\n",
       "    }\n",
       "\n",
       "    .dataframe tbody tr th {\n",
       "        vertical-align: top;\n",
       "    }\n",
       "\n",
       "    .dataframe thead th {\n",
       "        text-align: right;\n",
       "    }\n",
       "</style>\n",
       "<table border=\"1\" class=\"dataframe\">\n",
       "  <thead>\n",
       "    <tr style=\"text-align: right;\">\n",
       "      <th></th>\n",
       "      <th>Unnamed: 0</th>\n",
       "      <th>HADM_ID</th>\n",
       "      <th>SHORT-TEXT</th>\n",
       "      <th>ICD9_CODE</th>\n",
       "      <th>ICD9</th>\n",
       "      <th>Label</th>\n",
       "    </tr>\n",
       "  </thead>\n",
       "  <tbody>\n",
       "    <tr>\n",
       "      <th>0</th>\n",
       "      <td>1</td>\n",
       "      <td>100003</td>\n",
       "      <td>history of present illness mr known lastname i...</td>\n",
       "      <td>53100, 2851, 07054, 5715, 45621, 53789, 4019, ...</td>\n",
       "      <td>531, 285, 070, 571, 456, 537, 401, 535, 782</td>\n",
       "      <td>285</td>\n",
       "    </tr>\n",
       "    <tr>\n",
       "      <th>1</th>\n",
       "      <td>3</td>\n",
       "      <td>100009</td>\n",
       "      <td>history of present illness yo man with known c...</td>\n",
       "      <td>41401, 99604, 4142, 25000, 27800, V8535, 4148,...</td>\n",
       "      <td>414, 996, 414, 250, 278, V85, 414, 411, V45, V...</td>\n",
       "      <td>285</td>\n",
       "    </tr>\n",
       "    <tr>\n",
       "      <th>2</th>\n",
       "      <td>5</td>\n",
       "      <td>100011</td>\n",
       "      <td>history of present illness y o male helmeted m...</td>\n",
       "      <td>85206, 82111, 86403, 48242, 8600, 2851, 86121,...</td>\n",
       "      <td>852, 821, 864, 482, 860, 285, 861, 807, 822, 8...</td>\n",
       "      <td>285</td>\n",
       "    </tr>\n",
       "    <tr>\n",
       "      <th>3</th>\n",
       "      <td>9</td>\n",
       "      <td>100021</td>\n",
       "      <td>history of present illness year old spanish sp...</td>\n",
       "      <td>E8788, E8497, 4019, 04104, 0413, 5728, V1581, ...</td>\n",
       "      <td>E87, E84, 401, 041, 041, 572, V15, 281, 780, 8...</td>\n",
       "      <td>281,287</td>\n",
       "    </tr>\n",
       "    <tr>\n",
       "      <th>4</th>\n",
       "      <td>11</td>\n",
       "      <td>100028</td>\n",
       "      <td>history of present illness this is a year old ...</td>\n",
       "      <td>5761, 0389, 5184, 57481, 99591, 42731, 2875, 8...</td>\n",
       "      <td>576, 038, 518, 574, 995, 427, 287, 873, E92</td>\n",
       "      <td>287</td>\n",
       "    </tr>\n",
       "  </tbody>\n",
       "</table>\n",
       "</div>"
      ],
      "text/plain": [
       "   Unnamed: 0  HADM_ID                                         SHORT-TEXT  \\\n",
       "0           1   100003  history of present illness mr known lastname i...   \n",
       "1           3   100009  history of present illness yo man with known c...   \n",
       "2           5   100011  history of present illness y o male helmeted m...   \n",
       "3           9   100021  history of present illness year old spanish sp...   \n",
       "4          11   100028  history of present illness this is a year old ...   \n",
       "\n",
       "                                           ICD9_CODE  \\\n",
       "0  53100, 2851, 07054, 5715, 45621, 53789, 4019, ...   \n",
       "1  41401, 99604, 4142, 25000, 27800, V8535, 4148,...   \n",
       "2  85206, 82111, 86403, 48242, 8600, 2851, 86121,...   \n",
       "3  E8788, E8497, 4019, 04104, 0413, 5728, V1581, ...   \n",
       "4  5761, 0389, 5184, 57481, 99591, 42731, 2875, 8...   \n",
       "\n",
       "                                                ICD9    Label  \n",
       "0        531, 285, 070, 571, 456, 537, 401, 535, 782      285  \n",
       "1  414, 996, 414, 250, 278, V85, 414, 411, V45, V...      285  \n",
       "2  852, 821, 864, 482, 860, 285, 861, 807, 822, 8...      285  \n",
       "3  E87, E84, 401, 041, 041, 572, V15, 281, 780, 8...  281,287  \n",
       "4        576, 038, 518, 574, 995, 427, 287, 873, E92      287  "
      ]
     },
     "execution_count": 25,
     "metadata": {},
     "output_type": "execute_result"
    }
   ],
   "source": [
    "df= pd.read_csv(\"CSV1.csv\")\n",
    "df.head()"
   ]
  },
  {
   "cell_type": "code",
   "execution_count": 26,
   "metadata": {},
   "outputs": [
    {
     "data": {
      "text/html": [
       "<div>\n",
       "<style scoped>\n",
       "    .dataframe tbody tr th:only-of-type {\n",
       "        vertical-align: middle;\n",
       "    }\n",
       "\n",
       "    .dataframe tbody tr th {\n",
       "        vertical-align: top;\n",
       "    }\n",
       "\n",
       "    .dataframe thead th {\n",
       "        text-align: right;\n",
       "    }\n",
       "</style>\n",
       "<table border=\"1\" class=\"dataframe\">\n",
       "  <thead>\n",
       "    <tr style=\"text-align: right;\">\n",
       "      <th></th>\n",
       "      <th>Unnamed: 0</th>\n",
       "      <th>HADM_ID</th>\n",
       "      <th>TEXT</th>\n",
       "      <th>LABLE</th>\n",
       "      <th>entites</th>\n",
       "      <th>group</th>\n",
       "    </tr>\n",
       "  </thead>\n",
       "  <tbody>\n",
       "    <tr>\n",
       "      <th>0</th>\n",
       "      <td>34</td>\n",
       "      <td>100199</td>\n",
       "      <td>Admission Date:  [**2185-11-11**]       Discha...</td>\n",
       "      <td>280</td>\n",
       "      <td>[\"Alzheimer's dementia\", 'coronary artery\\ndis...</td>\n",
       "      <td>1</td>\n",
       "    </tr>\n",
       "    <tr>\n",
       "      <th>1</th>\n",
       "      <td>46</td>\n",
       "      <td>100227</td>\n",
       "      <td>Admission Date:  [**2160-12-7**]              ...</td>\n",
       "      <td>280</td>\n",
       "      <td>['Methotrexate', 'UTI', 'rheumatoid arthritis'...</td>\n",
       "      <td>1</td>\n",
       "    </tr>\n",
       "    <tr>\n",
       "      <th>2</th>\n",
       "      <td>88</td>\n",
       "      <td>100452</td>\n",
       "      <td>Admission Date:  [**2187-10-23**]             ...</td>\n",
       "      <td>280</td>\n",
       "      <td>['Allergies', 'syncope', 'DVT', 'CHF', 'HTN', ...</td>\n",
       "      <td>1</td>\n",
       "    </tr>\n",
       "    <tr>\n",
       "      <th>3</th>\n",
       "      <td>89</td>\n",
       "      <td>100456</td>\n",
       "      <td>Admission Date:  [**2123-4-26**]              ...</td>\n",
       "      <td>280</td>\n",
       "      <td>['Allergies', 'Codeine', 'Remicade', 'Vancomyc...</td>\n",
       "      <td>1</td>\n",
       "    </tr>\n",
       "    <tr>\n",
       "      <th>4</th>\n",
       "      <td>107</td>\n",
       "      <td>100530</td>\n",
       "      <td>Admission Date:  [**2124-2-14**]              ...</td>\n",
       "      <td>280</td>\n",
       "      <td>['Penicillins', 'seizure', 'hematemesis', 'tra...</td>\n",
       "      <td>1</td>\n",
       "    </tr>\n",
       "  </tbody>\n",
       "</table>\n",
       "</div>"
      ],
      "text/plain": [
       "   Unnamed: 0  HADM_ID                                               TEXT  \\\n",
       "0          34   100199  Admission Date:  [**2185-11-11**]       Discha...   \n",
       "1          46   100227  Admission Date:  [**2160-12-7**]              ...   \n",
       "2          88   100452  Admission Date:  [**2187-10-23**]             ...   \n",
       "3          89   100456  Admission Date:  [**2123-4-26**]              ...   \n",
       "4         107   100530  Admission Date:  [**2124-2-14**]              ...   \n",
       "\n",
       "   LABLE                                            entites  group  \n",
       "0    280  [\"Alzheimer's dementia\", 'coronary artery\\ndis...      1  \n",
       "1    280  ['Methotrexate', 'UTI', 'rheumatoid arthritis'...      1  \n",
       "2    280  ['Allergies', 'syncope', 'DVT', 'CHF', 'HTN', ...      1  \n",
       "3    280  ['Allergies', 'Codeine', 'Remicade', 'Vancomyc...      1  \n",
       "4    280  ['Penicillins', 'seizure', 'hematemesis', 'tra...      1  "
      ]
     },
     "execution_count": 26,
     "metadata": {},
     "output_type": "execute_result"
    }
   ],
   "source": [
    "df= pd.read_csv(\"CSV2.csv\")\n",
    "df.head()"
   ]
  },
  {
   "cell_type": "code",
   "execution_count": 27,
   "metadata": {},
   "outputs": [
    {
     "data": {
      "text/html": [
       "<div>\n",
       "<style scoped>\n",
       "    .dataframe tbody tr th:only-of-type {\n",
       "        vertical-align: middle;\n",
       "    }\n",
       "\n",
       "    .dataframe tbody tr th {\n",
       "        vertical-align: top;\n",
       "    }\n",
       "\n",
       "    .dataframe thead th {\n",
       "        text-align: right;\n",
       "    }\n",
       "</style>\n",
       "<table border=\"1\" class=\"dataframe\">\n",
       "  <thead>\n",
       "    <tr style=\"text-align: right;\">\n",
       "      <th></th>\n",
       "      <th>HADM_ID</th>\n",
       "      <th>TEXT</th>\n",
       "      <th>ICD9_CODE</th>\n",
       "      <th>Label</th>\n",
       "    </tr>\n",
       "  </thead>\n",
       "  <tbody>\n",
       "    <tr>\n",
       "      <th>0</th>\n",
       "      <td>100001</td>\n",
       "      <td>Admission Date:  [**2117-9-11**]              ...</td>\n",
       "      <td>250, 337, 584, 578, V58, 250, 536, 458, 250, 4...</td>\n",
       "      <td>0</td>\n",
       "    </tr>\n",
       "    <tr>\n",
       "      <th>1</th>\n",
       "      <td>100003</td>\n",
       "      <td>Admission Date:  [**2150-4-17**]              ...</td>\n",
       "      <td>531, 285, 070, 571, 456, 537, 401, 535, 782</td>\n",
       "      <td>1</td>\n",
       "    </tr>\n",
       "    <tr>\n",
       "      <th>2</th>\n",
       "      <td>100006</td>\n",
       "      <td>Admission Date:  [**2108-4-6**]       Discharg...</td>\n",
       "      <td>493, 518, 486, 203, 276, 785, 309, V12, V15</td>\n",
       "      <td>0</td>\n",
       "    </tr>\n",
       "    <tr>\n",
       "      <th>3</th>\n",
       "      <td>100007</td>\n",
       "      <td>Admission Date:  [**2145-3-31**]              ...</td>\n",
       "      <td>560, 557, 997, 486, 401</td>\n",
       "      <td>0</td>\n",
       "    </tr>\n",
       "    <tr>\n",
       "      <th>4</th>\n",
       "      <td>100009</td>\n",
       "      <td>Admission Date:  [**2162-5-16**]              ...</td>\n",
       "      <td>414, 996, 414, 250, 278, V85, 414, 411, V45, V...</td>\n",
       "      <td>1</td>\n",
       "    </tr>\n",
       "  </tbody>\n",
       "</table>\n",
       "</div>"
      ],
      "text/plain": [
       "   HADM_ID                                               TEXT  \\\n",
       "0   100001  Admission Date:  [**2117-9-11**]              ...   \n",
       "1   100003  Admission Date:  [**2150-4-17**]              ...   \n",
       "2   100006  Admission Date:  [**2108-4-6**]       Discharg...   \n",
       "3   100007  Admission Date:  [**2145-3-31**]              ...   \n",
       "4   100009  Admission Date:  [**2162-5-16**]              ...   \n",
       "\n",
       "                                           ICD9_CODE  Label  \n",
       "0  250, 337, 584, 578, V58, 250, 536, 458, 250, 4...      0  \n",
       "1        531, 285, 070, 571, 456, 537, 401, 535, 782      1  \n",
       "2        493, 518, 486, 203, 276, 785, 309, V12, V15      0  \n",
       "3                            560, 557, 997, 486, 401      0  \n",
       "4  414, 996, 414, 250, 278, V85, 414, 411, V45, V...      1  "
      ]
     },
     "execution_count": 27,
     "metadata": {},
     "output_type": "execute_result"
    }
   ],
   "source": [
    "df= pd.read_csv(\"CSV3.csv\")\n",
    "df.head()"
   ]
  },
  {
   "cell_type": "code",
   "execution_count": 28,
   "metadata": {},
   "outputs": [
    {
     "data": {
      "text/html": [
       "<div>\n",
       "<style scoped>\n",
       "    .dataframe tbody tr th:only-of-type {\n",
       "        vertical-align: middle;\n",
       "    }\n",
       "\n",
       "    .dataframe tbody tr th {\n",
       "        vertical-align: top;\n",
       "    }\n",
       "\n",
       "    .dataframe thead th {\n",
       "        text-align: right;\n",
       "    }\n",
       "</style>\n",
       "<table border=\"1\" class=\"dataframe\">\n",
       "  <thead>\n",
       "    <tr style=\"text-align: right;\">\n",
       "      <th></th>\n",
       "      <th>HADM_ID</th>\n",
       "      <th>TEXT</th>\n",
       "      <th>LABLE</th>\n",
       "    </tr>\n",
       "  </thead>\n",
       "  <tbody>\n",
       "    <tr>\n",
       "      <th>0</th>\n",
       "      <td>100003</td>\n",
       "      <td>Admission Date:  [**2150-4-17**]              ...</td>\n",
       "      <td>285</td>\n",
       "    </tr>\n",
       "    <tr>\n",
       "      <th>1</th>\n",
       "      <td>100009</td>\n",
       "      <td>Admission Date:  [**2162-5-16**]              ...</td>\n",
       "      <td>285</td>\n",
       "    </tr>\n",
       "    <tr>\n",
       "      <th>2</th>\n",
       "      <td>100011</td>\n",
       "      <td>Admission Date:  [**2177-8-29**]              ...</td>\n",
       "      <td>285</td>\n",
       "    </tr>\n",
       "    <tr>\n",
       "      <th>3</th>\n",
       "      <td>100021</td>\n",
       "      <td>Admission Date:  [**2109-8-17**]              ...</td>\n",
       "      <td>281</td>\n",
       "    </tr>\n",
       "    <tr>\n",
       "      <th>4</th>\n",
       "      <td>100030</td>\n",
       "      <td>Admission Date:  [**2199-12-3**]       Dischar...</td>\n",
       "      <td>285</td>\n",
       "    </tr>\n",
       "  </tbody>\n",
       "</table>\n",
       "</div>"
      ],
      "text/plain": [
       "   HADM_ID                                               TEXT LABLE\n",
       "0   100003  Admission Date:  [**2150-4-17**]              ...   285\n",
       "1   100009  Admission Date:  [**2162-5-16**]              ...   285\n",
       "2   100011  Admission Date:  [**2177-8-29**]              ...   285\n",
       "3   100021  Admission Date:  [**2109-8-17**]              ...   281\n",
       "4   100030  Admission Date:  [**2199-12-3**]       Dischar...   285"
      ]
     },
     "execution_count": 28,
     "metadata": {},
     "output_type": "execute_result"
    }
   ],
   "source": [
    "df= pd.read_csv(\"CSV4.csv\")\n",
    "df.head()"
   ]
  },
  {
   "cell_type": "markdown",
   "metadata": {},
   "source": [
    "## Task 1 Code: Output in combined_text.txt file"
   ]
  },
  {
   "cell_type": "code",
   "execution_count": 29,
   "metadata": {},
   "outputs": [
    {
     "name": "stdout",
     "output_type": "stream",
     "text": [
      "Text extraction completed. All text saved to combined_texts.txt.\n"
     ]
    }
   ],
   "source": [
    "csv_files = {\n",
    "    'CSV1.csv': 'SHORT-TEXT',\n",
    "    'CSV2.csv': 'TEXT',\n",
    "    'CSV3.csv': 'TEXT',\n",
    "    'CSV4.csv': 'TEXT'\n",
    "}\n",
    "\n",
    "output_file = 'combined_texts.txt'\n",
    "\n",
    "with open(output_file, 'w') as outfile:\n",
    "    outfile.write('')\n",
    "\n",
    "for file, text_column in csv_files.items():\n",
    "    df = pd.read_csv(file)\n",
    "    \n",
    "    text_column_data = df[text_column]\n",
    "    \n",
    "    with open(output_file, 'a') as outfile:\n",
    "        for text in text_column_data:\n",
    "            outfile.write(str(text) + '\\n')\n",
    "\n",
    "print(f\"Text extraction completed. All text saved to {output_file}.\")"
   ]
  },
  {
   "cell_type": "code",
   "execution_count": null,
   "metadata": {},
   "outputs": [],
   "source": []
  }
 ],
 "metadata": {
  "kernelspec": {
   "display_name": "Python 3 (ipykernel)",
   "language": "python",
   "name": "python3"
  },
  "language_info": {
   "codemirror_mode": {
    "name": "ipython",
    "version": 3
   },
   "file_extension": ".py",
   "mimetype": "text/x-python",
   "name": "python",
   "nbconvert_exporter": "python",
   "pygments_lexer": "ipython3",
   "version": "3.11.5"
  }
 },
 "nbformat": 4,
 "nbformat_minor": 2
}
